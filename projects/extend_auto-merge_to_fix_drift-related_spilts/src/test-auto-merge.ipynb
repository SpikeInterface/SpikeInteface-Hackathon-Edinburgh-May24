{
 "cells": [
  {
   "cell_type": "code",
   "execution_count": null,
   "id": "9b307a2c-9a9f-4290-af38-cb9057ba10e2",
   "metadata": {},
   "outputs": [],
   "source": [
    "import spikeinterface as si\n",
    "import spikeinterface.curation as scur\n",
    "import spikeinterface.widgets as sw\n",
    "import numpy as np\n",
    "\n",
    "import matplotlib.pyplot as plt\n",
    "\n",
    "%matplotlib widget"
   ]
  },
  {
   "cell_type": "code",
   "execution_count": null,
   "id": "fbd0715d-b201-4c77-92ca-d1a95e6eb0b6",
   "metadata": {},
   "outputs": [],
   "source": [
    "seed = 2308"
   ]
  },
  {
   "cell_type": "code",
   "execution_count": null,
   "id": "9e1a48cc-c4a8-4c7c-9a21-f2517970f819",
   "metadata": {},
   "outputs": [],
   "source": [
    "recording, sorting_original = si.generate_ground_truth_recording(durations=[300], num_channels=64, num_units=30, seed=2308)"
   ]
  },
  {
   "cell_type": "code",
   "execution_count": null,
   "id": "c8f4ba0d-ddc1-4737-b36d-5c0ec6aaadac",
   "metadata": {},
   "outputs": [],
   "source": [
    "units_to_split = sorting_original.unit_ids[::3]"
   ]
  },
  {
   "cell_type": "code",
   "execution_count": null,
   "id": "046ecff4-1861-409c-a976-e40a922d1775",
   "metadata": {},
   "outputs": [],
   "source": [
    "partial_split_prob = 0.99\n",
    "sorting_split = sorting_original.select_units(sorting_original.unit_ids)\n",
    "split_units = []\n",
    "original_units = []\n",
    "for unit in units_to_split:\n",
    "    num_spikes = len(sorting_split.get_unit_spike_train(unit))\n",
    "    indices = np.zeros(num_spikes, dtype=int)\n",
    "    indices[:num_spikes // 2] = (np.random.rand(num_spikes // 2) < partial_split_prob).astype(int)\n",
    "    indices[num_spikes // 2:] = (np.random.rand(num_spikes - num_spikes // 2) < 1 - partial_split_prob).astype(int)\n",
    "    sorting_split = scur.split_unit_sorting(sorting_split, split_unit_id=unit, indices_list=indices, properties_policy=\"remove\")\n",
    "    split_units.append(sorting_split.unit_ids[-2:])\n",
    "    original_units.append(unit)"
   ]
  },
  {
   "cell_type": "code",
   "execution_count": null,
   "id": "5250fd65-03b1-407f-be68-127de28818ec",
   "metadata": {},
   "outputs": [],
   "source": [
    "analyzer.unit_ids"
   ]
  },
  {
   "cell_type": "code",
   "execution_count": null,
   "id": "012e1498-7865-4ccf-9f6c-0d45cf0e4f8b",
   "metadata": {},
   "outputs": [],
   "source": [
    "sw.plot_rasters(sorting_split)"
   ]
  },
  {
   "cell_type": "code",
   "execution_count": null,
   "id": "ee270f60-cb44-4e37-82bb-4abb334bf1b2",
   "metadata": {},
   "outputs": [],
   "source": [
    "analyzer = si.create_sorting_analyzer(sorting_split, recording)"
   ]
  },
  {
   "cell_type": "code",
   "execution_count": null,
   "id": "3bc6a413-80f4-4438-a7d4-f0305cfacbe1",
   "metadata": {},
   "outputs": [],
   "source": [
    "analyzer_original = si.create_sorting_analyzer(sorting_original, recording)\n",
    "analyzer_original.compute([\"random_spikes\", \"templates\"])"
   ]
  },
  {
   "cell_type": "code",
   "execution_count": null,
   "id": "c6d8eda9-9d2d-47a5-8e61-25d4f4c3f9c6",
   "metadata": {},
   "outputs": [],
   "source": [
    "bin_duration_s = 2\n",
    "\n",
    "def get_wass_distance(analyzer, unit1, unit2, bin_duration_s=2, percentile_norm=90, bins=None):\n",
    "    if bins is None:\n",
    "        bin_size = bin_duration_s * analyzer.sampling_frequency\n",
    "        bins = np.arange(0, analyzer.get_num_samples(), bin_size)\n",
    "\n",
    "    st1 = analyzer.sorting.get_unit_spike_train(unit_id=unit1)\n",
    "    st2 = analyzer.sorting.get_unit_spike_train(unit_id=unit2)\n",
    "\n",
    "    h1, _ = np.histogram(st1, bins)\n",
    "    h1 = h1.astype(float)\n",
    "    h1 = h1 / np.percentile(h1, percentile_norm)\n",
    "\n",
    "    h2, _ = np.histogram(st2, bins)\n",
    "    h2 = h2.astype(float)\n",
    "    h2 = h2 / np.percentile(h2, percentile_norm)\n",
    "\n",
    "    d = wasserstein_distance(h1, h2)\n",
    "    \n",
    "    if np.isnan(d):\n",
    "        d = 0\n",
    "    \n",
    "    return d\n",
    "\n",
    "\n",
    "def get_other_distance(analyzer, unit1, unit2, bin_duration_s=2, percentile_norm=90, bins=None):\n",
    "    if bins is None:\n",
    "        bin_size = bin_duration_s * analyzer.sampling_frequency\n",
    "        bins = np.arange(0, analyzer.get_num_samples(), bin_size)\n",
    "\n",
    "    st1 = analyzer.sorting.get_unit_spike_train(unit_id=unit1)\n",
    "    st2 = analyzer.sorting.get_unit_spike_train(unit_id=unit2)\n",
    "\n",
    "    h1, _ = np.histogram(st1, bins)\n",
    "    h1 = h1.astype(float)\n",
    "    h1 = h1 / np.percentile(h1, percentile_norm)\n",
    "\n",
    "    h2, _ = np.histogram(st2, bins)\n",
    "    h2 = h2.astype(float)\n",
    "    h2 = h2 / np.percentile(h2, percentile_norm)\n",
    "\n",
    "    d = np.sum(np.abs(h1 + h2 - np.ones_like(h1))) / analyzer.get_total_duration()\n",
    "    \n",
    "    return d"
   ]
  },
  {
   "cell_type": "code",
   "execution_count": null,
   "id": "8139303b-8fd3-4581-a4d9-db8201bb5a3d",
   "metadata": {},
   "outputs": [],
   "source": [
    "analyzer.compute([\"random_spikes\", \"templates\", \"template_similarity\", \"spike_amplitudes\"])"
   ]
  },
  {
   "cell_type": "code",
   "execution_count": null,
   "id": "3e15533f-94b1-49da-82a5-16c98448c06d",
   "metadata": {},
   "outputs": [],
   "source": [
    "distances = np.zeros((analyzer.get_num_units(), analyzer.get_num_units()))\n",
    "all_templates = analyzer.get_extension(\"templates\").get_templates()\n",
    "for i, unit1 in enumerate(analyzer.unit_ids):\n",
    "    for j, unit2 in enumerate(analyzer.unit_ids):    \n",
    "        if i != j:\n",
    "            d = get_other_distance(analyzer, unit1, unit2)\n",
    "            # print(f\"Distance {unit1}-{unit2}: {d}\")\n",
    "            distances[i, j] = d\n",
    "        else:\n",
    "            distances[i, j] = 1\n"
   ]
  },
  {
   "cell_type": "code",
   "execution_count": null,
   "id": "d762180f-10d8-49f4-8b61-20e7085d980a",
   "metadata": {},
   "outputs": [],
   "source": [
    "for original, split in zip(original_units, split_units):\n",
    "    unit_indices = analyzer.sorting.ids_to_indices(split)\n",
    "    print(unit_indices)\n",
    "    print(f\"Units: {original}->{split} - distance: {distances[unit_indices[0], unit_indices[1]]} - similarity: {similarity[unit_indices[0], unit_indices[1]]}\")"
   ]
  },
  {
   "cell_type": "code",
   "execution_count": null,
   "id": "fc828610-3fcc-4ca3-b640-60138290e72a",
   "metadata": {},
   "outputs": [],
   "source": [
    "similarity = analyzer.get_extension(\"template_similarity\").get_data()"
   ]
  },
  {
   "cell_type": "code",
   "execution_count": null,
   "id": "db39b74a-a3f4-4f7d-9079-fd4013823afb",
   "metadata": {},
   "outputs": [],
   "source": [
    "distance_thr = distances.copy()\n",
    "distance_thr = np.triu(distance_thr)\n",
    "distance_thr[distance_thr == 0] = np.nan\n",
    "distance_thr[similarity < 0.7] = np.nan\n",
    "distance_thr[distance_thr > 0.1] = np.nan"
   ]
  },
  {
   "cell_type": "code",
   "execution_count": null,
   "id": "4a416e3d-1228-4767-a0df-84b263dc7a00",
   "metadata": {},
   "outputs": [],
   "source": [
    "plt.figure()\n",
    "plt.imshow(distance_thr)"
   ]
  },
  {
   "cell_type": "code",
   "execution_count": null,
   "id": "9971f4da-cad3-4452-8e1f-13aac5c06adc",
   "metadata": {},
   "outputs": [],
   "source": [
    "np.logical_not(np.isnan(distance_thr))"
   ]
  },
  {
   "cell_type": "code",
   "execution_count": null,
   "id": "cb6eab0c-e6b3-4055-8e0a-cbd3b92ac59b",
   "metadata": {},
   "outputs": [],
   "source": [
    "potential_merges = np.array(np.nonzero(np.logical_not(np.isnan(distance_thr)))).T"
   ]
  },
  {
   "cell_type": "code",
   "execution_count": null,
   "id": "bf115f2f-8865-4474-b6c7-a98232180920",
   "metadata": {},
   "outputs": [],
   "source": [
    "potential_merges"
   ]
  },
  {
   "cell_type": "code",
   "execution_count": null,
   "id": "d6eae961-c8c1-42fb-aa74-c21ae03de4d4",
   "metadata": {},
   "outputs": [],
   "source": [
    "simi"
   ]
  },
  {
   "cell_type": "code",
   "execution_count": null,
   "id": "9128a75e-b468-415e-be11-24cee4215573",
   "metadata": {},
   "outputs": [],
   "source": [
    "analyzer.compute(\"spike_amplitudes\")"
   ]
  },
  {
   "cell_type": "code",
   "execution_count": null,
   "id": "b107c721-0617-40d1-8525-83c60256748a",
   "metadata": {},
   "outputs": [],
   "source": [
    "sw.plot_unit_templates(analyzer, backend=\"ipywidgets\")"
   ]
  },
  {
   "cell_type": "code",
   "execution_count": null,
   "id": "573af6cb-0182-41d3-b5aa-ba4a5760e8d2",
   "metadata": {},
   "outputs": [],
   "source": [
    "sw.plot_unit_templates(analyzer_original, backend=\"ipywidgets\")"
   ]
  },
  {
   "cell_type": "code",
   "execution_count": null,
   "id": "9e1b53d3-3e08-4302-9d4d-a5d5f094f7e3",
   "metadata": {},
   "outputs": [],
   "source": [
    "sw.plot_amplitudes(analyzer, backend=\"ipywidgets\")"
   ]
  },
  {
   "cell_type": "code",
   "execution_count": null,
   "id": "866d3141-55fa-4cd0-9075-aa8c8ec29c45",
   "metadata": {},
   "outputs": [],
   "source": [
    "distances[6, 7]"
   ]
  },
  {
   "cell_type": "code",
   "execution_count": null,
   "id": "4a5c1b63-6e63-488d-a58e-0bfea98cd0b2",
   "metadata": {},
   "outputs": [],
   "source": [
    "distances[0, 1]"
   ]
  },
  {
   "cell_type": "code",
   "execution_count": null,
   "id": "3f8d9a46-b6af-47cd-b2a4-bb00349ed4ed",
   "metadata": {},
   "outputs": [],
   "source": [
    "unit1 = 16\n",
    "unit2 = 17\n",
    "percentile_norm = 0.99"
   ]
  },
  {
   "cell_type": "code",
   "execution_count": null,
   "id": "dcc9a95f-24ad-463b-9868-640dfeaf0fe4",
   "metadata": {},
   "outputs": [],
   "source": [
    "st1 = analyzer.sorting.get_unit_spike_train(unit_id=unit1)\n",
    "st2 = analyzer.sorting.get_unit_spike_train(unit_id=unit2)\n",
    "\n",
    "h1, _ = np.histogram(st1, bins)\n",
    "h1 = h1 / np.percentile(h1, percentile_norm)\n",
    "\n",
    "h2, _ = np.histogram(st2, bins)\n",
    "h2 = h2 / np.percentile(h2, percentile_norm)\n",
    "\n",
    "d = wasserstein_distance(h1, h2)\n",
    "    "
   ]
  },
  {
   "cell_type": "code",
   "execution_count": null,
   "id": "6c16f162-2565-4cb1-9169-a0b5377d8850",
   "metadata": {},
   "outputs": [],
   "source": [
    "bins"
   ]
  },
  {
   "cell_type": "code",
   "execution_count": null,
   "id": "cc683cff-3fbe-4184-8b9b-b8061c97d858",
   "metadata": {},
   "outputs": [],
   "source": [
    "h1, _ = np.histogram(st1, bins)"
   ]
  },
  {
   "cell_type": "code",
   "execution_count": null,
   "id": "d0f5db9c-00d2-45ef-9b47-a418d431c9df",
   "metadata": {},
   "outputs": [],
   "source": [
    "np.percentile(h1, 0.2)"
   ]
  },
  {
   "cell_type": "code",
   "execution_count": null,
   "id": "f149b8de-42d2-4935-abdb-b01ce37ca5ca",
   "metadata": {},
   "outputs": [],
   "source": []
  },
  {
   "cell_type": "code",
   "execution_count": null,
   "id": "781a13a4-ac2f-4109-a17c-ea4877734898",
   "metadata": {},
   "outputs": [],
   "source": [
    "bins = np.arange(0, recording.get_num_samples(), bin_size)"
   ]
  },
  {
   "cell_type": "code",
   "execution_count": null,
   "id": "f3e582d1-fb09-4817-ab13-3f762352f78f",
   "metadata": {},
   "outputs": [],
   "source": [
    "unit16 = sorting_split.get_unit_spike_train(unit_id=16)\n",
    "unit17 = sorting_split.get_unit_spike_train(unit_id=17)"
   ]
  },
  {
   "cell_type": "code",
   "execution_count": null,
   "id": "a2dbcd04-8cc1-485a-addd-41998627093f",
   "metadata": {},
   "outputs": [],
   "source": []
  },
  {
   "cell_type": "code",
   "execution_count": null,
   "id": "fe576512-68d5-41dc-b61d-3e822c9931cf",
   "metadata": {},
   "outputs": [],
   "source": [
    "plt.figure()\n",
    "plt.plot(b[:-1], h1)\n",
    "plt.plot(b[:-1], h2)"
   ]
  },
  {
   "cell_type": "code",
   "execution_count": null,
   "id": "4a227ff6-fe5b-4295-90f3-d210626919e4",
   "metadata": {},
   "outputs": [],
   "source": [
    "from scipy.stats import wasserstein_distance"
   ]
  },
  {
   "cell_type": "code",
   "execution_count": null,
   "id": "9acc4601-bbe4-4af6-bc4e-6059df53725a",
   "metadata": {},
   "outputs": [],
   "source": [
    "wasserstein_distance(h16, h17)"
   ]
  },
  {
   "cell_type": "code",
   "execution_count": null,
   "id": "e210c30b-759f-4acc-98cf-431b7bbc2076",
   "metadata": {},
   "outputs": [],
   "source": [
    "plt.plot(b[:-1], h16 + h17, lw=3)"
   ]
  },
  {
   "cell_type": "code",
   "execution_count": null,
   "id": "819003fa-2922-452d-9206-0a1a2e1fed6a",
   "metadata": {},
   "outputs": [],
   "source": [
    "np.sum(np.abs(h16 + h17 - np.ones_like(h16))) / rec.get_total_duration()"
   ]
  },
  {
   "cell_type": "code",
   "execution_count": null,
   "id": "ba0f7a55-8dd6-4552-9ecc-22aa128e991a",
   "metadata": {},
   "outputs": [],
   "source": [
    "np.sum(np.abs(h17 - np.ones_like(h16))) / rec.get_total_duration()"
   ]
  },
  {
   "cell_type": "code",
   "execution_count": null,
   "id": "c6b30668-6ef5-4dc6-9228-0d8adc7cd10a",
   "metadata": {},
   "outputs": [],
   "source": [
    "np.sum(np.abs(h16 - np.ones_like(h16))) / rec.get_total_duration()"
   ]
  },
  {
   "cell_type": "code",
   "execution_count": null,
   "id": "1cd1e656-5f80-4daa-9938-0c3cdf5de946",
   "metadata": {},
   "outputs": [],
   "source": [
    "analyzer = si.create_sorting_analyzer(sorting_split, recording)"
   ]
  },
  {
   "cell_type": "code",
   "execution_count": null,
   "id": "f4fd1641-28b9-46eb-b982-da0406db9971",
   "metadata": {},
   "outputs": [],
   "source": [
    "scur.get_potential_auto_merge"
   ]
  },
  {
   "cell_type": "code",
   "execution_count": null,
   "id": "6162b46f-aec1-4783-ad04-06f0dfa59ec3",
   "metadata": {},
   "outputs": [],
   "source": [
    "def get_potential_drift_merges(analyzer, )"
   ]
  }
 ],
 "metadata": {
  "kernelspec": {
   "display_name": "Python 3 (ipykernel)",
   "language": "python",
   "name": "python3"
  },
  "language_info": {
   "codemirror_mode": {
    "name": "ipython",
    "version": 3
   },
   "file_extension": ".py",
   "mimetype": "text/x-python",
   "name": "python",
   "nbconvert_exporter": "python",
   "pygments_lexer": "ipython3",
   "version": "3.10.12"
  }
 },
 "nbformat": 4,
 "nbformat_minor": 5
}
