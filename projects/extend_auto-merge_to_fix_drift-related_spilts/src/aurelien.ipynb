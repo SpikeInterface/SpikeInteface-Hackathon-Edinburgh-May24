{
 "cells": [
  {
   "cell_type": "code",
   "execution_count": 2,
   "id": "c2b97e73-35f0-42c1-8485-53a3fef382ec",
   "metadata": {},
   "outputs": [],
   "source": [
    "from pathlib import Path\n",
    "\n",
    "import numpy as np\n",
    "import plotly.graph_objects as go\n",
    "\n",
    "import lussac.utils as utils\n",
    "import spikeinterface.core as si\n",
    "import spikeinterface.comparison as sc\n",
    "import spikeinterface.qualitymetrics as sqm\n",
    "import spikeinterface.sorters as ss\n",
    "import spikeinterface.widgets as sw\n",
    "\n",
    "si.set_global_job_kwargs(n_jobs=6)"
   ]
  },
  {
   "cell_type": "code",
   "execution_count": 15,
   "id": "4d91a1d7-2206-480b-a734-966e42dd6b98",
   "metadata": {},
   "outputs": [],
   "source": [
    "data_folder = Path(\"/media/aurelien/Main_SSD/SI_Hackathon_2024\")\n",
    "recording = si.load_extractor(data_folder / \"recording.bin\")  # drift, motion corrected\n",
    "gt_sorting = si.load_extractor(data_folder / \"gt_sorting\")\n",
    "\n",
    "utils.Utils.t_max = recording.get_num_frames()\n",
    "utils.Utils.sampling_frequency = recording.sampling_frequency"
   ]
  },
  {
   "cell_type": "code",
   "execution_count": 4,
   "id": "4a2a9ad3-fd0f-4328-a896-98fd1fbe747b",
   "metadata": {},
   "outputs": [],
   "source": [
    "# Recording is already motion corrected, so turn it to false.\n",
    "if (sc2_folder := (data_folder / \"sc2_default\")).exists():\n",
    "    sorting = si.load_extractor(sc2_folder / \"sorter_output\" / \"sorting\")\n",
    "else:\n",
    "    sorting = ss.run_sorter(\"spykingcircus2\", recording, output_folder=data_folder / \"sc2_default\", apply_motion_correction=False,\n",
    "                            merging={}, verbose=True, remove_existing_folder=True)"
   ]
  },
  {
   "cell_type": "code",
   "execution_count": 5,
   "id": "577ca949-8b8c-4348-87a7-9d9aa42349f4",
   "metadata": {},
   "outputs": [],
   "source": [
    "firing_rate = sorting.count_num_spikes_per_unit(outputs=\"array\") / recording.get_num_frames() * recording.sampling_frequency\n",
    "sorting = sorting.select_units(sorting.unit_ids[firing_rate > 0.8])"
   ]
  },
  {
   "cell_type": "code",
   "execution_count": 6,
   "id": "430b7303-c0f5-4041-b17f-522eae9b3927",
   "metadata": {},
   "outputs": [],
   "source": [
    "if (analyzer_folder := (data_folder / \"analyzer_sc2\")).exists():\n",
    "    analyzer = si.load_sorting_analyzer(analyzer_folder)\n",
    "else:\n",
    "    analyzer = si.create_sorting_analyzer(sorting, recording, format=\"binary_folder\", folder=analyzer_folder)\n",
    "    analyzer.compute({\n",
    "        'noise_levels': {},\n",
    "        'random_spikes': {},\n",
    "        'waveforms': {'ms_before': 1.2, 'ms_after': 2.3},\n",
    "        'templates': {},\n",
    "        'correlograms': {'bin_ms': 0.4},\n",
    "        'spike_amplitudes': {},\n",
    "        'unit_locations': {'method': \"monopolar_triangulation\"},\n",
    "        'template_similarity': {}\n",
    "    })"
   ]
  },
  {
   "cell_type": "code",
   "execution_count": 7,
   "id": "08183b44-c7a0-451e-89ae-edd3abbd1279",
   "metadata": {},
   "outputs": [],
   "source": [
    "comp = sc.compare_sorter_to_ground_truth(gt_sorting, sorting, exhaustive_gt=True)"
   ]
  },
  {
   "cell_type": "code",
   "execution_count": 8,
   "id": "86539550-0d57-4e18-b22b-e418478d3933",
   "metadata": {},
   "outputs": [],
   "source": [
    "n_spikes = sorting.count_num_spikes_per_unit(outputs=\"array\")\n",
    "n_true_spikes = gt_sorting.count_num_spikes_per_unit(outputs=\"array\")\n",
    "n_coincidence = comp.match_event_count\n",
    "\n",
    "precision_matrix = n_coincidence / n_spikes[None, :]\n",
    "recall_matrix = n_coincidence / n_true_spikes[:, None]\n",
    "agreement_matrix = n_coincidence / (n_spikes[None, :] + n_true_spikes[:, None] - n_coincidence)"
   ]
  },
  {
   "cell_type": "code",
   "execution_count": 9,
   "id": "05069a05-5635-4abc-9d6f-2bfaec99c110",
   "metadata": {},
   "outputs": [
    {
     "data": {
      "text/plain": [
       "{'#859': [14],\n",
       " '#2693': [22],\n",
       " '#1449': [32, 33],\n",
       " '#1366': [35, 88],\n",
       " '#919': [36, 94, 96],\n",
       " '#1565': [37, 296],\n",
       " '#1399': [38, 300],\n",
       " '#6': [40, 108],\n",
       " '#1606': [42],\n",
       " '#391': [43, 44],\n",
       " '#2743': [47],\n",
       " '#2506': [48, 49],\n",
       " '#507': [51, 306],\n",
       " '#1004': [52, 129, 130],\n",
       " '#855': [53, 313, 314],\n",
       " '#2279': [55, 58, 59],\n",
       " '#1846': [56],\n",
       " '#1766': [61],\n",
       " '#1066': [63, 64],\n",
       " '#1964': [66, 137],\n",
       " '#2765': [67],\n",
       " '#2313': [69, 70, 71],\n",
       " '#1340': [73],\n",
       " '#270': [74, 141, 378],\n",
       " '#2402': [77],\n",
       " '#421': [78, 79, 142, 144],\n",
       " '#2301': [82],\n",
       " '#2461': [83],\n",
       " '#2018': [89, 387],\n",
       " '#2410': [90, 332, 333],\n",
       " '#2090': [93],\n",
       " '#1434': [98],\n",
       " '#1609': [99],\n",
       " '#2311': [100, 101],\n",
       " '#2469': [103, 105, 166, 350],\n",
       " '#1691': [110],\n",
       " '#378': [115, 117],\n",
       " '#1613': [119, 120, 121],\n",
       " '#2456': [122, 123, 407],\n",
       " '#2998': [126, 128, 308],\n",
       " '#1080': [132, 133],\n",
       " '#2421': [134, 326],\n",
       " '#2658': [138, 206, 208, 379],\n",
       " '#2519': [146, 147, 148],\n",
       " '#565': [149],\n",
       " '#1611': [151, 152, 153],\n",
       " '#2810': [154, 156, 297, 391, 392],\n",
       " '#1952': [155],\n",
       " '#1967': [157],\n",
       " '#493': [158, 159],\n",
       " '#162': [162],\n",
       " '#489': [163, 342],\n",
       " '#2222': [164],\n",
       " '#2187': [167],\n",
       " '#1816': [168, 171],\n",
       " '#2799': [169, 173],\n",
       " '#1720': [170, 235, 449],\n",
       " '#1582': [174],\n",
       " '#2619': [175],\n",
       " '#1171': [176],\n",
       " '#546': [180, 405],\n",
       " '#208': [181, 245, 450],\n",
       " '#1663': [182, 183, 184],\n",
       " '#2997': [185],\n",
       " '#2626': [186, 247],\n",
       " '#2928': [187, 188],\n",
       " '#1929': [189, 453, 456],\n",
       " '#2911': [191],\n",
       " '#632': [193, 415, 416],\n",
       " '#2072': [194, 196],\n",
       " '#2533': [197, 199],\n",
       " '#2392': [198],\n",
       " '#2255': [200, 263],\n",
       " '#2865': [201],\n",
       " '#1461': [204, 275],\n",
       " '#2960': [205],\n",
       " '#2956': [209],\n",
       " '#200': [210, 285],\n",
       " '#267': [211, 213],\n",
       " '#144': [216],\n",
       " '#2994': [217],\n",
       " '#81': [218],\n",
       " '#1986': [220, 440, 442],\n",
       " '#1474': [223],\n",
       " '#755': [224, 443],\n",
       " '#579': [227],\n",
       " '#1812': [229],\n",
       " '#2863': [232],\n",
       " '#2346': [237, 400],\n",
       " '#1633': [240],\n",
       " '#1736': [243],\n",
       " '#2494': [248, 253],\n",
       " '#759': [249, 250],\n",
       " '#1722': [254, 255],\n",
       " '#441': [256, 257, 258],\n",
       " '#1510': [260, 454],\n",
       " '#2632': [261, 262],\n",
       " '#1311': [264, 265],\n",
       " '#2107': [266, 268],\n",
       " '#746': [269],\n",
       " '#788': [271],\n",
       " '#905': [272, 273, 430],\n",
       " '#704': [274],\n",
       " '#1140': [278],\n",
       " '#1997': [279, 281, 282],\n",
       " '#1733': [283],\n",
       " '#2036': [288, 463, 464],\n",
       " '#2601': [290],\n",
       " '#826': [291, 292],\n",
       " '#1235': [299],\n",
       " '#925': [304],\n",
       " '#69': [310],\n",
       " '#989': [311, 312],\n",
       " '#2940': [316, 317, 359],\n",
       " '#31': [319, 325],\n",
       " '#725': [321],\n",
       " '#2957': [322, 323],\n",
       " '#164': [328, 375, 376],\n",
       " '#1566': [330, 370, 372],\n",
       " '#2080': [335, 336, 337],\n",
       " '#1874': [339, 341],\n",
       " '#2295': [343],\n",
       " '#1431': [346, 347, 348],\n",
       " '#752': [352],\n",
       " '#1339': [353],\n",
       " '#34': [355, 356],\n",
       " '#2696': [357],\n",
       " '#2042': [360, 361],\n",
       " '#374': [363, 364],\n",
       " '#1737': [366, 367],\n",
       " '#1798': [373, 374],\n",
       " '#1044': [384, 385, 386],\n",
       " '#2447': [389, 437, 438],\n",
       " '#402': [393, 394],\n",
       " '#881': [396],\n",
       " '#1704': [401, 402, 447],\n",
       " '#2741': [403, 404],\n",
       " '#819': [408, 409],\n",
       " '#1710': [412, 413, 414],\n",
       " '#2927': [417, 421],\n",
       " '#1341': [423, 427],\n",
       " '#2444': [428],\n",
       " '#1226': [432],\n",
       " '#1105': [434],\n",
       " '#2339': [435],\n",
       " '#1463': [455],\n",
       " '#389': [458],\n",
       " '#635': [460, 461]}"
      ]
     },
     "execution_count": 9,
     "metadata": {},
     "output_type": "execute_result"
    }
   ],
   "source": [
    "second_best_recall = np.sort(np.array(recall_matrix), axis=0)[-2, :]\n",
    "best_precision = np.max(precision_matrix, axis=0)\n",
    "\n",
    "good_units_mask = second_best_recall < 1/3  # Merged units\n",
    "good_units_mask &= best_precision > 0.5\n",
    "\n",
    "matching = {}\n",
    "matched = {}\n",
    "for unit_id in sorting.unit_ids[good_units_mask]:\n",
    "    neuron_id = agreement_matrix[unit_id].idxmax()\n",
    "\n",
    "    matched[unit_id] = neuron_id\n",
    "    if neuron_id in matching:\n",
    "        matching[neuron_id].append(unit_id)\n",
    "    else:\n",
    "        matching[neuron_id] = [unit_id]\n",
    "\n",
    "matching"
   ]
  },
  {
   "cell_type": "code",
   "execution_count": 74,
   "id": "6e799c2c-8e50-4eb7-8e89-eb9593c48463",
   "metadata": {},
   "outputs": [
    {
     "data": {
      "text/plain": [
       "<spikeinterface.widgets.sorting_summary.SortingSummaryWidget at 0x7f0b481fa050>"
      ]
     },
     "execution_count": 74,
     "metadata": {},
     "output_type": "execute_result"
    }
   ],
   "source": [
    "sw.plot_sorting_summary(analyzer, backend=\"spikeinterface_gui\")"
   ]
  },
  {
   "cell_type": "code",
   "execution_count": 51,
   "id": "09074bb3-dc51-42e5-9f6d-a99af5104f70",
   "metadata": {},
   "outputs": [
    {
     "name": "stdout",
     "output_type": "stream",
     "text": [
      "Opening in existing browser session.\n"
     ]
    }
   ],
   "source": [
    "temp_similarity = analyzer.get_extension(\"template_similarity\").get_data()\n",
    "max_shift = 10\n",
    "max_channels = 10\n",
    "\n",
    "X = []\n",
    "Y = []\n",
    "pairs = []\n",
    "colors = []\n",
    "text = []\n",
    "\n",
    "for unit_id1 in sorting.unit_ids[good_units_mask]:\n",
    "    for unit_id2 in sorting.unit_ids[good_units_mask]:\n",
    "        if unit_id2 <= unit_id1:\n",
    "            continue\n",
    "\n",
    "        unit_index1 = sorting.id_to_index(unit_id1)\n",
    "        unit_index2 = sorting.id_to_index(unit_id2)\n",
    "        neuron1 = matched[unit_id1]\n",
    "        neuron2 = matched[unit_id2]\n",
    "\n",
    "        template1 = analyzer.get_extension(\"templates\").get_unit_template(unit_id1)\n",
    "        template2 = analyzer.get_extension(\"templates\").get_unit_template(unit_id2)\n",
    "\n",
    "        best_channel_indices = np.argsort(np.max(np.abs(template1) + np.abs(template2), axis=0))[::-1][:10]\n",
    "        \n",
    "        max_diff = 1\n",
    "        for shift in range(-max_shift, max_shift+1):\n",
    "            n = len(template1)\n",
    "            t1 = template1[max_shift: n-max_shift, best_channel_indices]\n",
    "            t2 = template2[max_shift+shift: n-max_shift+shift, best_channel_indices]\n",
    "            diff = np.sum(np.abs(t1 - t2)) / np.sum(np.abs(t1) + np.abs(t2))\n",
    "            if diff < max_diff:\n",
    "                max_diff = diff\n",
    "        Y.append(max_diff)\n",
    "\n",
    "        X.append(temp_similarity[unit_index1, unit_index2])\n",
    "        colors.append(\"Crimson\" if neuron1 == neuron2 else \"CornflowerBlue\")\n",
    "        text.append(f\"Units {unit_id1} - {unit_id2}\")\n",
    "        pairs.append([unit_id1, unit_id2])\n",
    "\n",
    "\n",
    "fig = go.Figure()\n",
    "\n",
    "fig.add_trace(go.Scatter(\n",
    "    x=X,\n",
    "    y=Y,\n",
    "    mode=\"markers\",\n",
    "    marker_color=colors,\n",
    "    text=text\n",
    "))\n",
    "\n",
    "fig.show(renderer=\"browser\")"
   ]
  },
  {
   "cell_type": "code",
   "execution_count": 52,
   "id": "32da9de1-2d8f-4d2a-87b8-ee7df45b9b5e",
   "metadata": {},
   "outputs": [
    {
     "name": "stdout",
     "output_type": "stream",
     "text": [
      "There are 174 pairs to merge out of 37776\n"
     ]
    }
   ],
   "source": [
    "n_pairs = dict(zip(*np.unique(colors, return_counts=True)))\n",
    "print(f\"There are {n_pairs['Crimson']} pairs to merge out of {n_pairs['CornflowerBlue']}\")"
   ]
  },
  {
   "cell_type": "code",
   "execution_count": 61,
   "id": "c1d07133-8098-4352-bb16-33bdf4086fe0",
   "metadata": {},
   "outputs": [
    {
     "name": "stdout",
     "output_type": "stream",
     "text": [
      "There are 174 pairs to merge out of 332\n"
     ]
    }
   ],
   "source": [
    "X = np.array(X)\n",
    "Y = np.array(Y)\n",
    "text = np.array(text)\n",
    "colors = np.array(colors)\n",
    "target = np.array(colors) == \"Crimson\"\n",
    "pairs = np.array(pairs)\n",
    "\n",
    "mask = Y < 0.25\n",
    "new_target = target[mask]\n",
    "new_pairs = pairs[mask]\n",
    "new_X = X[mask]\n",
    "new_Y = Y[mask]\n",
    "new_colors = colors[mask]\n",
    "new_text = text[mask]\n",
    "\n",
    "print(f\"There are {np.sum(new_target)} pairs to merge out of {len(new_target)}\")"
   ]
  },
  {
   "cell_type": "code",
   "execution_count": 62,
   "id": "2bcf2ea7-6e50-44ec-8ca8-befa80f3ae09",
   "metadata": {},
   "outputs": [
    {
     "name": "stdout",
     "output_type": "stream",
     "text": [
      "There are 173 pairs to merge out of 233\n"
     ]
    }
   ],
   "source": [
    "CCs = []\n",
    "\n",
    "for pair, target in zip(new_pairs, new_target):\n",
    "    unit_id1, unit_id2 = pair\n",
    "    spike_train1 = np.array(sorting.get_unit_spike_train(unit_id1))\n",
    "    spike_train2 = np.array(sorting.get_unit_spike_train(unit_id2))\n",
    "\n",
    "    CC = utils.estimate_cross_contamination(spike_train1, spike_train2, (0.4, 1.9))\n",
    "    CCs.append(CC)\n",
    "\n",
    "mask = np.array(CCs) < 0.15\n",
    "\n",
    "newer_target = new_target[mask]\n",
    "newer_pairs = new_pairs[mask]\n",
    "newer_X = new_X[mask]\n",
    "newer_Y = new_Y[mask]\n",
    "newer_colors = new_colors[mask]\n",
    "newer_text = new_text[mask]\n",
    "\n",
    "print(f\"There are {np.sum(newer_target)} pairs to merge out of {len(newer_target)}\")"
   ]
  },
  {
   "cell_type": "code",
   "execution_count": 58,
   "id": "366faf1b-af34-4cc0-8f7f-308778497c1d",
   "metadata": {},
   "outputs": [
    {
     "name": "stdout",
     "output_type": "stream",
     "text": [
      "Opening in existing browser session.\n"
     ]
    }
   ],
   "source": [
    "fig = go.Figure()\n",
    "\n",
    "fig.add_trace(go.Scatter(\n",
    "    x=newer_X,\n",
    "    y=newer_Y,\n",
    "    mode=\"markers\",\n",
    "    marker_color=newer_colors,\n",
    "    text=newer_text\n",
    "))\n",
    "\n",
    "fig.show(renderer=\"browser\")"
   ]
  },
  {
   "cell_type": "code",
   "execution_count": 73,
   "id": "7c33b2f4-6323-4d0b-b51f-3a24e563eb05",
   "metadata": {},
   "outputs": [
    {
     "name": "stdout",
     "output_type": "stream",
     "text": [
      "True 0.9631350152745939 [103 105]\n",
      "True 1.0882664476338895 [103 166]\n",
      "True 0.844491401680653 [103 350]\n",
      "False 1.032358511431898 [356 408]\n",
      "True 1.025321956868236 [389 437]\n"
     ]
    }
   ],
   "source": [
    "n_seconds = recording.get_num_frames() / recording.sampling_frequency\n",
    "n_bins = int(n_seconds // 20)\n",
    "\n",
    "for pair, target in zip(newer_pairs, newer_target):\n",
    "    unit_id1, unit_id2 = pair\n",
    "    spike_train1 = np.array(sorting.get_unit_spike_train(unit_id1))\n",
    "    spike_train2 = np.array(sorting.get_unit_spike_train(unit_id2))\n",
    "    merged_spike_train = np.sort(np.concatenate((spike_train1, spike_train2)))\n",
    "    \n",
    "    hist1, _ = np.histogram(spike_train1, bins=n_bins)\n",
    "    hist2, _ = np.histogram(spike_train2, bins=n_bins)\n",
    "    hist_merged, _ = np.histogram(merged_spike_train, bins=n_bins)\n",
    "\n",
    "    cv1 = np.std(hist1) / np.mean(hist1)\n",
    "    cv2 = np.std(hist2) / np.mean(hist2)\n",
    "    cv_merged = np.std(hist_merged) / np.mean(hist_merged)\n",
    "\n",
    "    metric = max(cv1, cv2) / (cv_merged)\n",
    "\n",
    "    if metric < 1.1:\n",
    "        print(target, metric, pair)"
   ]
  },
  {
   "cell_type": "code",
   "execution_count": null,
   "id": "98fd13ef-f1bd-4212-81f7-20f74dd7bdcf",
   "metadata": {},
   "outputs": [],
   "source": []
  },
  {
   "cell_type": "code",
   "execution_count": null,
   "id": "d124cf6d-8567-4ed1-b34e-c17f08010bfc",
   "metadata": {},
   "outputs": [],
   "source": []
  },
  {
   "cell_type": "code",
   "execution_count": 77,
   "id": "319939e0-24ed-456c-a4e0-416689e85bee",
   "metadata": {},
   "outputs": [
    {
     "data": {
      "text/plain": [
       "[]"
      ]
     },
     "execution_count": 77,
     "metadata": {},
     "output_type": "execute_result"
    }
   ],
   "source": [
    "# Function for Pierre\n",
    "\n",
    "def aurelien_merge(analyzer: si.SortingAnalyzer, refractory_period, template_threshold: float = 0.12, CC_threshold: float = 0.15,\n",
    "                   max_shift: int = 10, max_channels: int = 10) -> list[tuple]:\n",
    "    \"\"\"\n",
    "    Looks at a sorting analyzer, and returns a list of potential pairwise merges.\n",
    "\n",
    "    Parameters\n",
    "    ----------\n",
    "    analyzer: SortingAnalyzer\n",
    "        The analyzer to look at\n",
    "    refractory_period: array/list/tuple of 2 floats\n",
    "        (censored_period_ms, refractory_period_ms)\n",
    "    template_threshold: float\n",
    "        The threshold on the template difference.\n",
    "        Any pair above this threshold will not be considered.\n",
    "    CC_treshold: float\n",
    "        The threshold on the cross-contamination.\n",
    "        Any pair above this threshold will not be considered.\n",
    "    max_shift: int\n",
    "        The maximum shift when comparing the templates (in number of time samples).\n",
    "    max_channels: int\n",
    "        The maximum number of channels to consider when comparing the templates.\n",
    "    \"\"\"\n",
    "    \n",
    "    pairs = []\n",
    "\n",
    "    for unit_id1 in analyzer.unit_ids:\n",
    "        for unit_id2 in analyzer.unit_ids:\n",
    "            if unit_id2 <= unit_id1:\n",
    "                continue\n",
    "\n",
    "            # Computing template difference\n",
    "            template1 = analyzer.get_extension(\"templates\").get_unit_template(unit_id1)\n",
    "            template2 = analyzer.get_extension(\"templates\").get_unit_template(unit_id2)\n",
    "    \n",
    "            best_channel_indices = np.argsort(np.max(np.abs(template1) + np.abs(template2), axis=0))[::-1][:10]\n",
    "            \n",
    "            max_diff = 1\n",
    "            for shift in range(-max_shift, max_shift+1):\n",
    "                n = len(template1)\n",
    "                t1 = template1[max_shift: n-max_shift, best_channel_indices]\n",
    "                t2 = template2[max_shift+shift: n-max_shift+shift, best_channel_indices]\n",
    "                diff = np.sum(np.abs(t1 - t2)) / np.sum(np.abs(t1) + np.abs(t2))\n",
    "                if diff < max_diff:\n",
    "                    max_diff = diff\n",
    "\n",
    "            if max_diff > template_threshold:\n",
    "                continue\n",
    "\n",
    "            # Compuyting the cross-contamination difference\n",
    "            spike_train1 = np.array(sorting.get_unit_spike_train(unit_id1))\n",
    "            spike_train2 = np.array(sorting.get_unit_spike_train(unit_id2))\n",
    "            CC = utils.estimate_cross_contamination(spike_train1, spike_train2, refractory_period)\n",
    "\n",
    "            if CC > CC_threshold:\n",
    "                continue\n",
    "\n",
    "            pairs.append((unit_id1, unit_id2))\n",
    "\n",
    "    return pairs\n",
    "\n",
    "aurelien_merge(analyzer, (0.4, 1.9))"
   ]
  },
  {
   "cell_type": "code",
   "execution_count": null,
   "id": "33112958-a084-4ab1-8405-6741e2b0f2d7",
   "metadata": {},
   "outputs": [],
   "source": []
  }
 ],
 "metadata": {
  "kernelspec": {
   "display_name": "Python 3 (ipykernel)",
   "language": "python",
   "name": "python3"
  },
  "language_info": {
   "codemirror_mode": {
    "name": "ipython",
    "version": 3
   },
   "file_extension": ".py",
   "mimetype": "text/x-python",
   "name": "python",
   "nbconvert_exporter": "python",
   "pygments_lexer": "ipython3",
   "version": "3.11.9"
  }
 },
 "nbformat": 4,
 "nbformat_minor": 5
}
